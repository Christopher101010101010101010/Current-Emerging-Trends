{
 "cells": [
  {
   "cell_type": "markdown",
   "metadata": {},
   "source": [
    "# Treasure Hunt Game Notebook\n",
    "\n",
    "## Read and Review Your Starter Code\n",
    "The theme of this project is a popular treasure hunt game in which the player needs to find the treasure before the pirate does. While you will not be developing the entire game, you will write the part of the game that represents the intelligent agent, which is a pirate in this case. The pirate will try to find the optimal path to the treasure using deep Q-learning. \n",
    "\n",
    "You have been provided with two Python classes and this notebook to help you with this assignment. The first class, TreasureMaze.py, represents the environment, which includes a maze object defined as a matrix. The second class, GameExperience.py, stores the episodes – that is, all the states that come in between the initial state and the terminal state. This is later used by the agent for learning by experience, called \"exploration\". This notebook shows how to play a game. Your task is to complete the deep Q-learning implementation for which a skeleton implementation has been provided. The code blocks you will need to complete has #TODO as a header.\n",
    "\n",
    "First, read and review the next few code and instruction blocks to understand the code that you have been given."
   ]
  },
  {
   "cell_type": "code",
   "execution_count": 1,
   "metadata": {},
   "outputs": [
    {
     "name": "stderr",
     "output_type": "stream",
     "text": [
      "Using TensorFlow backend.\n"
     ]
    }
   ],
   "source": [
    "from __future__ import print_function\n",
    "import os, sys, time, datetime, json, random\n",
    "import numpy as np\n",
    "from keras.models import Sequential\n",
    "from keras.layers.core import Dense, Activation\n",
    "from keras.optimizers import SGD , Adam, RMSprop\n",
    "from keras.layers.advanced_activations import PReLU\n",
    "import matplotlib.pyplot as plt\n",
    "from TreasureMaze import TreasureMaze\n",
    "from GameExperience import GameExperience\n",
    "%matplotlib inline"
   ]
  },
  {
   "cell_type": "markdown",
   "metadata": {},
   "source": [
    "The following code block contains an 8x8 matrix that will be used as a maze object:"
   ]
  },
  {
   "cell_type": "code",
   "execution_count": 2,
   "metadata": {},
   "outputs": [],
   "source": [
    "maze = np.array([\n",
    "    [ 1.,  0.,  1.,  1.,  1.,  1.,  1.,  1.],\n",
    "    [ 1.,  0.,  1.,  1.,  1.,  0.,  1.,  1.],\n",
    "    [ 1.,  1.,  1.,  1.,  0.,  1.,  0.,  1.],\n",
    "    [ 1.,  1.,  1.,  0.,  1.,  1.,  1.,  1.],\n",
    "    [ 1.,  1.,  0.,  1.,  1.,  1.,  1.,  1.],\n",
    "    [ 1.,  1.,  1.,  0.,  1.,  0.,  0.,  0.],\n",
    "    [ 1.,  1.,  1.,  0.,  1.,  1.,  1.,  1.],\n",
    "    [ 1.,  1.,  1.,  1.,  0.,  1.,  1.,  1.]\n",
    "])"
   ]
  },
  {
   "cell_type": "markdown",
   "metadata": {},
   "source": [
    "This helper function allows a visual representation of the maze object:"
   ]
  },
  {
   "cell_type": "code",
   "execution_count": 3,
   "metadata": {},
   "outputs": [],
   "source": [
    "def show(qmaze):\n",
    "    plt.grid('on')\n",
    "    nrows, ncols = qmaze.maze.shape\n",
    "    ax = plt.gca()\n",
    "    ax.set_xticks(np.arange(0.5, nrows, 1))\n",
    "    ax.set_yticks(np.arange(0.5, ncols, 1))\n",
    "    ax.set_xticklabels([])\n",
    "    ax.set_yticklabels([])\n",
    "    canvas = np.copy(qmaze.maze)\n",
    "    for row,col in qmaze.visited:\n",
    "        canvas[row,col] = 0.6\n",
    "    pirate_row, pirate_col, _ = qmaze.state\n",
    "    canvas[pirate_row, pirate_col] = 0.3   # pirate cell\n",
    "    canvas[nrows-1, ncols-1] = 0.9 # treasure cell\n",
    "    img = plt.imshow(canvas, interpolation='none', cmap='gray')\n",
    "    return img"
   ]
  },
  {
   "cell_type": "markdown",
   "metadata": {},
   "source": [
    "The pirate agent can move in four directions: left, right, up, and down. \n",
    "\n",
    "While the agent primarily learns by experience through exploitation, often, the agent can choose to explore the environment to find previously undiscovered paths. This is called \"exploration\" and is defined by epsilon. This value is typically a lower value such as 0.1, which means for every ten attempts, the agent will attempt to learn by experience nine times and will randomly explore a new path one time. You are encouraged to try various values for the exploration factor and see how the algorithm performs."
   ]
  },
  {
   "cell_type": "code",
   "execution_count": 4,
   "metadata": {},
   "outputs": [],
   "source": [
    "LEFT = 0\n",
    "UP = 1\n",
    "RIGHT = 2\n",
    "DOWN = 3\n",
    "\n",
    "\n",
    "# Exploration factor\n",
    "epsilon = 0.1\n",
    "\n",
    "# Actions dictionary\n",
    "actions_dict = {\n",
    "    LEFT: 'left',\n",
    "    UP: 'up',\n",
    "    RIGHT: 'right',\n",
    "    DOWN: 'down',\n",
    "}\n",
    "\n",
    "num_actions = len(actions_dict)\n"
   ]
  },
  {
   "cell_type": "markdown",
   "metadata": {},
   "source": [
    "The sample code block and output below show creating a maze object and performing one action (DOWN), which returns the reward. The resulting updated environment is visualized."
   ]
  },
  {
   "cell_type": "code",
   "execution_count": 5,
   "metadata": {},
   "outputs": [
    {
     "name": "stdout",
     "output_type": "stream",
     "text": [
      "reward= -0.04\n"
     ]
    },
    {
     "data": {
      "text/plain": [
       "<matplotlib.image.AxesImage at 0x1c7d9384b08>"
      ]
     },
     "execution_count": 5,
     "metadata": {},
     "output_type": "execute_result"
    },
    {
     "data": {
      "image/png": "[encoded data removed]",
      "text/plain": [
       "<Figure size 432x288 with 1 Axes>"
      ]
     },
     "metadata": {
      "needs_background": "light"
     },
     "output_type": "display_data"
    }
   ],
   "source": [
    "qmaze = TreasureMaze(maze)\n",
    "canvas, reward, game_over = qmaze.act(DOWN)\n",
    "print(\"reward=\", reward)\n",
    "show(qmaze)"
   ]
  },
  {
   "cell_type": "markdown",
   "metadata": {},
   "source": [
    "This function simulates a full game based on the provided trained model. The other parameters include the TreasureMaze object and the starting position of the pirate."
   ]
  },
  {
   "cell_type": "code",
   "execution_count": 6,
   "metadata": {},
   "outputs": [],
   "source": [
    "def play_game(model, qmaze, pirate_cell):\n",
    "    qmaze.reset(pirate_cell)\n",
    "    envstate = qmaze.observe()\n",
    "    while True:\n",
    "        prev_envstate = envstate\n",
    "        # get next action\n",
    "        q = model.predict(prev_envstate)\n",
    "        action = np.argmax(q[0])\n",
    "\n",
    "        # apply action, get rewards and new state\n",
    "        envstate, reward, game_status = qmaze.act(action)\n",
    "        if game_status == 'win':\n",
    "            return True\n",
    "        elif game_status == 'lose':\n",
    "            return False"
   ]
  },
  {
   "cell_type": "markdown",
   "metadata": {},
   "source": [
    "This function helps you to determine whether the pirate can win any game at all. If your maze is not well designed, the pirate may not win any game at all. In this case, your training would not yield any result. The provided maze in this notebook ensures that there is a path to win and you can run this method to check."
   ]
  },
  {
   "cell_type": "code",
   "execution_count": 7,
   "metadata": {},
   "outputs": [],
   "source": [
    "def completion_check(model, qmaze):\n",
    "    for cell in qmaze.free_cells:\n",
    "        if not qmaze.valid_actions(cell):\n",
    "            return False\n",
    "        if not play_game(model, qmaze, cell):\n",
    "            return False\n",
    "    return True"
   ]
  },
  {
   "cell_type": "markdown",
   "metadata": {},
   "source": [
    "The code you have been given in this block will build the neural network model. Review the code and note the number of layers, as well as the activation, optimizer, and loss functions that are used to train the model."
   ]
  },
  {
   "cell_type": "code",
   "execution_count": 8,
   "metadata": {},
   "outputs": [],
   "source": [
    "def build_model(maze):\n",
    "    model = Sequential()\n",
    "    model.add(Dense(maze.size, input_shape=(maze.size,)))\n",
    "    model.add(PReLU())\n",
    "    model.add(Dense(maze.size))\n",
    "    model.add(PReLU())\n",
    "    model.add(Dense(num_actions))\n",
    "    model.compile(optimizer='adam', loss='mse')\n",
    "    return model"
   ]
  },
  {
   "cell_type": "markdown",
   "metadata": {},
   "source": [
    "# #TODO: Complete the Q-Training Algorithm Code Block\n",
    "\n",
    "This is your deep Q-learning implementation. The goal of your deep Q-learning implementation is to find the best possible navigation sequence that results in reaching the treasure cell while maximizing the reward. In your implementation, you need to determine the optimal number of epochs to achieve a 100% win rate.\n",
    "\n",
    "You will need to complete the section starting with #pseudocode. The pseudocode has been included for you."
   ]
  },
  {
   "cell_type": "code",
   "execution_count": 9,
   "metadata": {},
   "outputs": [],
   "source": [
    "def qtrain(model, maze, **opt):\n",
    "\n",
    "    # exploration factor\n",
    "    global epsilon \n",
    "\n",
    "    # number of epochs\n",
    "    n_epoch = opt.get('n_epoch', 15000)\n",
    "\n",
    "    # maximum memory to store episodes\n",
    "    max_memory = opt.get('max_memory', 1000)\n",
    "\n",
    "    # maximum data size for training\n",
    "    data_size = opt.get('data_size', 50)\n",
    "\n",
    "    # start time\n",
    "    start_time = datetime.datetime.now()\n",
    "\n",
    "    # Construct environment/game from numpy array: maze (see above)\n",
    "    qmaze = TreasureMaze(maze)\n",
    "\n",
    "    # Initialize experience replay object\n",
    "    experience = GameExperience(model, max_memory=max_memory)\n",
    "    \n",
    "    win_history = []   # history of win/lose game\n",
    "    hsize = qmaze.maze.size//2   # history window size\n",
    "    win_rate = 0.0\n",
    "    \n",
    "    # pseudocode:\n",
    "    # For each epoch:\n",
    "    #    Agent_cell = randomly select a free cell\n",
    "    #    Reset the maze with agent set to above position\n",
    "    #    Hint: Review the reset method in the TreasureMaze.py class.\n",
    "    #    envstate = Environment.current_state\n",
    "    #    Hint: Review the observe method in the TreasureMaze.py class.\n",
    "    #    While state is not game over:\n",
    "    #        previous_envstate = envstate\n",
    "    #        Action = randomly choose action (left, right, up, down) either by exploration or by exploitation\n",
    "    #        envstate, reward, game_status = qmaze.act(action)\n",
    "    #    Hint: Review the act method in the TreasureMaze.py class.\n",
    "    #        episode = [previous_envstate, action, reward, envstate, game_status]\n",
    "    #        Store episode in Experience replay object\n",
    "    #    Hint: Review the remember method in the GameExperience.py class.\n",
    "    #        Train neural network model and evaluate loss\n",
    "    #    Hint: Call GameExperience.get_data to retrieve training data (input and target) and pass to model.fit method \n",
    "    #          to train the model. You can call model.evaluate to determine loss.\n",
    "    #    If the win rate is above the threshold and your model passes the completion check, that would be your epoch.\n",
    "    epsilon = 0.1 #define ratio of exploitation to exploration\n",
    "    epoch = 0\n",
    "\n",
    "    while epoch < n_epoch:\n",
    "    \n",
    "        num_episodes = 0\n",
    "    \n",
    "        #initialize maze environment and first action\n",
    "        qmaze.reset((0, 0))\n",
    "        environment_state = qmaze.observe()\n",
    "        agent_next_act = experience.predict(environment_state)\n",
    "        \n",
    "        #determine agents next action within the system by processing\n",
    "        #predict() array into greatest int for directional movement\n",
    "        next_act = -1\n",
    "        j = 0\n",
    "        while j < 4:\n",
    "            k = 0\n",
    "            while k < 4:\n",
    "                if agent_next_act[j] < agent_next_act[k]:\n",
    "                    next_act = k\n",
    "                else:\n",
    "                    next_act = j\n",
    "                k+=1\n",
    "            j+=1\n",
    "        \n",
    "        #update maze with agent action and check game status\n",
    "        qmaze.update_state(next_act)\n",
    "        game_state = qmaze.game_status()\n",
    "        while game_state is  'not_over':\n",
    "            \n",
    "            #define episode counter, previous state object, and next \n",
    "            #action predictions\n",
    "            num_episodes+=1\n",
    "            previous_state = environment_state\n",
    "            agent_next_act = experience.predict(previous_state)        \n",
    "            \n",
    "            ##define previous directional action and define opposite \n",
    "            ##directional as a backtracking inhibitor\n",
    "            #prev_act = next_act       # optional back track inhibitor to avoid agent exploring \n",
    "            #bt_inhibitor = -1         # and returning to initial position\n",
    "            #row, col = qmaze.pirate\n",
    "            #if prev_act is 0:\n",
    "            #    bt_inhibitor = 2\n",
    "            #elif prev_act is 1:\n",
    "            #    bt_inhibitor = 3\n",
    "            #elif prev_act is 2:\n",
    "            #    bt_inhibitor = 0\n",
    "            #elif prev_act is 3:\n",
    "            #    bt_inhibitor = 1\n",
    "            \n",
    "            #determine agents next action within the system by processing\n",
    "            #predict() array into greatest int for directional movement\n",
    "            #next_act = -1\n",
    "            agent_next_act = experience.predict(previous_state)\n",
    "            \n",
    "            #choose explore or exploit\n",
    "            if random.uniform(0, 1) < epsilon:\n",
    "                #explore\n",
    "                #set next action to random directional index\n",
    "                explore_direction = random.randint(0, 3)\n",
    "                next_act = explore_direction\n",
    "            else:\n",
    "                #exploit\n",
    "                # determine maximum float value within agent_next_act predicted\n",
    "                # reward array\n",
    "                max_reward = agent_next_act[0]\n",
    "                for predicted_reward in agent_next_act:\n",
    "                    if predicted_reward > max_reward:\n",
    "                        max_reward = predicted_reward\n",
    "                \n",
    "                # set next_act to index of greatest reward predicted in agent_next_act\n",
    "                # array such that 0th index is Left movement, 1th index is Up movement,\n",
    "                # 2nd index is Right movement, and 3rd index is Down movement\n",
    "                j = 0\n",
    "                while j < 4:\n",
    "                    if max_reward is agent_next_act[j]:  #and j is not bt_inhibitor: #optional back track inhibitor\n",
    "                        next_act = j\n",
    "                        break\n",
    "                    j+=1                \n",
    "            \n",
    "\n",
    "            #record maze state to experience object\n",
    "            environment_state, reward, game_state = qmaze.act(next_act)\n",
    "            qmaze.update_state(next_act)\n",
    "            episode = [previous_state, next_act, reward, environment_state, game_state]\n",
    "            experience.remember(episode)\n",
    "            \n",
    "            #apply new data to the AI agent for training\n",
    "            inputs, targets = experience.get_data()\n",
    "            model.fit(inputs, targets, verbose=0)\n",
    "            model.evaluate(inputs, targets, batch_size=None, verbose=0,sample_weight=None,\n",
    "                          steps=None)            \n",
    "            \n",
    "            #record wins and loses of the agent during training\n",
    "            game_state = qmaze.game_status()\n",
    "            if game_state is 'win':\n",
    "                win_history.append(1)\n",
    "                break\n",
    "            elif game_state is 'lose':\n",
    "                win_history.append(0)\n",
    "                break\n",
    "                \n",
    "            ##troubleshooting outputs used to observe the active game state,\n",
    "            ##predicted next movement values, current action reward\n",
    "            ##output indicates the agent is more rewarded for backtracking than exploring\n",
    "            ##in occasional iterations of training..?\n",
    "            #print(':::\\n', str(game_state), \" \", str(next_act))\n",
    "            #print('::predicted rewards(index 0Left, 1Up, 2Right, 3Down)-', str(agent_next_act))\n",
    "            #print('::result reward-', str(qmaze.get_reward()))\n",
    "            #print(\"::pirate coordinates-\", str(qmaze.pirate))\n",
    "            \n",
    "            environment_state = qmaze.observe()\n",
    "            \n",
    "    \n",
    "        #accumulator block to determine number of wins and loses within the epoches\n",
    "        win_sum = 0\n",
    "        lose_sum = 0\n",
    "        i = 0\n",
    "        while i < len(win_history):\n",
    "            if win_history[i] is 1:\n",
    "                win_sum+=1\n",
    "            if win_history[i] is 0:\n",
    "                lose_sum+=1\n",
    "            i+=1\n",
    "        \n",
    "        win_rate = win_sum / len(win_history)\n",
    "        n_episodes = num_episodes\n",
    "        loss = lose_sum\n",
    "        epoch+=1\n",
    "        \n",
    "        #Print the epoch, loss, episodes, win count, and win rate for each epoch\n",
    "        dt = datetime.datetime.now() - start_time\n",
    "        t = format_time(dt.total_seconds())\n",
    "        template = \"Epoch: {:03d}/{:d} | Loss: {:.4f} | Episodes: {:d} | Win count: {:d} | Win rate: {:.3f} | time: {}\"\n",
    "        print(template.format(epoch, n_epoch-1, loss, n_episodes, sum(win_history), win_rate, t))\n",
    "        # We simply check if training has exhausted all free cells and if in all\n",
    "        # cases the agent won.\n",
    "        if win_rate > 0.9 : epsilon = 0.05\n",
    "        if sum(win_history[-hsize:]) == hsize and completion_check(model, qmaze):\n",
    "            print(\"Reached 100%% win rate at epoch: %d\" % (epoch,))\n",
    "            break\n",
    "    \n",
    "    \n",
    "    # Determine the total time for training\n",
    "    dt = datetime.datetime.now() - start_time\n",
    "    seconds = dt.total_seconds()\n",
    "    t = format_time(seconds)\n",
    "\n",
    "    print(\"n_epoch: %d, max_mem: %d, data: %d, time: %s\" % (epoch, max_memory, data_size, t))\n",
    "    return seconds\n",
    "\n",
    "# This is a small utility for printing readable time strings:\n",
    "def format_time(seconds):\n",
    "    if seconds < 400:\n",
    "        s = float(seconds)\n",
    "        return \"%.1f seconds\" % (s,)\n",
    "    elif seconds < 4000:\n",
    "        m = seconds / 60.0\n",
    "        return \"%.2f minutes\" % (m,)\n",
    "    else:\n",
    "        h = seconds / 3600.0\n",
    "        return \"%.2f hours\" % (h,)"
   ]
  },
  {
   "cell_type": "markdown",
   "metadata": {},
   "source": [
    "## Test Your Model\n",
    "\n",
    "Now we will start testing the deep Q-learning implementation. To begin, select **Cell**, then **Run All** from the menu bar. This will run your notebook. As it runs, you should see output begin to appear beneath the next few cells. The code below creates an instance of TreasureMaze."
   ]
  },
  {
   "cell_type": "code",
   "execution_count": 10,
   "metadata": {},
   "outputs": [
    {
     "data": {
      "text/plain": [
       "<matplotlib.image.AxesImage at 0x1c7da422688>"
      ]
     },
     "execution_count": 10,
     "metadata": {},
     "output_type": "execute_result"
    },
    {
     "data": {
      "image/png": "[encoded data removed]",
      "text/plain": [
       "<Figure size 432x288 with 1 Axes>"
      ]
     },
     "metadata": {
      "needs_background": "light"
     },
     "output_type": "display_data"
    }
   ],
   "source": [
    "qmaze = TreasureMaze(maze)\n",
    "show(qmaze)"
   ]
  },
  {
   "cell_type": "markdown",
   "metadata": {},
   "source": [
    "In the next code block, you will build your model and train it using deep Q-learning. Note: This step takes several minutes to fully run."
   ]
  },
  {
   "cell_type": "code",
   "execution_count": 11,
   "metadata": {},
   "outputs": [
    {
     "name": "stdout",
     "output_type": "stream",
     "text": [
      "Epoch: 001/14999 | Loss: 1.0000 | Episodes: 137 | Win count: 0 | Win rate: 0.000 | time: 4.2 seconds\n",
      "Epoch: 002/14999 | Loss: 2.0000 | Episodes: 142 | Win count: 0 | Win rate: 0.000 | time: 7.3 seconds\n",
      "Epoch: 003/14999 | Loss: 3.0000 | Episodes: 138 | Win count: 0 | Win rate: 0.000 | time: 10.1 seconds\n",
      "Epoch: 004/14999 | Loss: 4.0000 | Episodes: 145 | Win count: 0 | Win rate: 0.000 | time: 12.7 seconds\n",
      "Epoch: 005/14999 | Loss: 5.0000 | Episodes: 137 | Win count: 0 | Win rate: 0.000 | time: 15.2 seconds\n",
      "Epoch: 006/14999 | Loss: 6.0000 | Episodes: 136 | Win count: 0 | Win rate: 0.000 | time: 17.8 seconds\n",
      "Epoch: 007/14999 | Loss: 7.0000 | Episodes: 141 | Win count: 0 | Win rate: 0.000 | time: 20.5 seconds\n",
      "Epoch: 008/14999 | Loss: 8.0000 | Episodes: 142 | Win count: 0 | Win rate: 0.000 | time: 23.1 seconds\n",
      "Epoch: 009/14999 | Loss: 9.0000 | Episodes: 137 | Win count: 0 | Win rate: 0.000 | time: 25.7 seconds\n",
      "Epoch: 010/14999 | Loss: 10.0000 | Episodes: 138 | Win count: 0 | Win rate: 0.000 | time: 28.5 seconds\n",
      "Epoch: 011/14999 | Loss: 11.0000 | Episodes: 136 | Win count: 0 | Win rate: 0.000 | time: 31.0 seconds\n",
      "Epoch: 012/14999 | Loss: 12.0000 | Episodes: 134 | Win count: 0 | Win rate: 0.000 | time: 33.7 seconds\n",
      "Epoch: 013/14999 | Loss: 13.0000 | Episodes: 139 | Win count: 0 | Win rate: 0.000 | time: 36.3 seconds\n",
      "Epoch: 014/14999 | Loss: 14.0000 | Episodes: 142 | Win count: 0 | Win rate: 0.000 | time: 38.9 seconds\n",
      "Epoch: 015/14999 | Loss: 15.0000 | Episodes: 138 | Win count: 0 | Win rate: 0.000 | time: 41.5 seconds\n",
      "Epoch: 016/14999 | Loss: 16.0000 | Episodes: 147 | Win count: 0 | Win rate: 0.000 | time: 44.1 seconds\n",
      "Epoch: 017/14999 | Loss: 17.0000 | Episodes: 139 | Win count: 0 | Win rate: 0.000 | time: 46.9 seconds\n",
      "Epoch: 018/14999 | Loss: 18.0000 | Episodes: 141 | Win count: 0 | Win rate: 0.000 | time: 49.7 seconds\n",
      "Epoch: 019/14999 | Loss: 19.0000 | Episodes: 140 | Win count: 0 | Win rate: 0.000 | time: 52.4 seconds\n",
      "Epoch: 020/14999 | Loss: 20.0000 | Episodes: 139 | Win count: 0 | Win rate: 0.000 | time: 55.1 seconds\n",
      "Epoch: 021/14999 | Loss: 21.0000 | Episodes: 144 | Win count: 0 | Win rate: 0.000 | time: 57.8 seconds\n",
      "Epoch: 022/14999 | Loss: 22.0000 | Episodes: 142 | Win count: 0 | Win rate: 0.000 | time: 60.5 seconds\n",
      "Epoch: 023/14999 | Loss: 23.0000 | Episodes: 139 | Win count: 0 | Win rate: 0.000 | time: 63.2 seconds\n",
      "Epoch: 024/14999 | Loss: 24.0000 | Episodes: 136 | Win count: 0 | Win rate: 0.000 | time: 66.3 seconds\n",
      "Epoch: 025/14999 | Loss: 25.0000 | Episodes: 138 | Win count: 0 | Win rate: 0.000 | time: 69.0 seconds\n",
      "Epoch: 026/14999 | Loss: 26.0000 | Episodes: 138 | Win count: 0 | Win rate: 0.000 | time: 71.6 seconds\n",
      "Epoch: 027/14999 | Loss: 27.0000 | Episodes: 142 | Win count: 0 | Win rate: 0.000 | time: 74.5 seconds\n",
      "Epoch: 028/14999 | Loss: 28.0000 | Episodes: 135 | Win count: 0 | Win rate: 0.000 | time: 76.9 seconds\n",
      "Epoch: 029/14999 | Loss: 29.0000 | Episodes: 135 | Win count: 0 | Win rate: 0.000 | time: 79.7 seconds\n",
      "Epoch: 030/14999 | Loss: 30.0000 | Episodes: 142 | Win count: 0 | Win rate: 0.000 | time: 82.4 seconds\n",
      "Epoch: 031/14999 | Loss: 31.0000 | Episodes: 135 | Win count: 0 | Win rate: 0.000 | time: 85.0 seconds\n",
      "Epoch: 032/14999 | Loss: 32.0000 | Episodes: 136 | Win count: 0 | Win rate: 0.000 | time: 87.6 seconds\n",
      "Epoch: 033/14999 | Loss: 33.0000 | Episodes: 137 | Win count: 0 | Win rate: 0.000 | time: 90.4 seconds\n",
      "Epoch: 034/14999 | Loss: 34.0000 | Episodes: 141 | Win count: 0 | Win rate: 0.000 | time: 93.1 seconds\n",
      "Epoch: 035/14999 | Loss: 35.0000 | Episodes: 144 | Win count: 0 | Win rate: 0.000 | time: 95.7 seconds\n",
      "Epoch: 036/14999 | Loss: 36.0000 | Episodes: 142 | Win count: 0 | Win rate: 0.000 | time: 98.2 seconds\n",
      "Epoch: 037/14999 | Loss: 37.0000 | Episodes: 142 | Win count: 0 | Win rate: 0.000 | time: 101.0 seconds\n",
      "Epoch: 038/14999 | Loss: 38.0000 | Episodes: 141 | Win count: 0 | Win rate: 0.000 | time: 103.6 seconds\n",
      "Epoch: 039/14999 | Loss: 39.0000 | Episodes: 143 | Win count: 0 | Win rate: 0.000 | time: 106.2 seconds\n",
      "Epoch: 040/14999 | Loss: 40.0000 | Episodes: 139 | Win count: 0 | Win rate: 0.000 | time: 108.8 seconds\n",
      "Epoch: 041/14999 | Loss: 41.0000 | Episodes: 140 | Win count: 0 | Win rate: 0.000 | time: 111.2 seconds\n",
      "Epoch: 042/14999 | Loss: 42.0000 | Episodes: 139 | Win count: 0 | Win rate: 0.000 | time: 113.9 seconds\n",
      "Epoch: 043/14999 | Loss: 43.0000 | Episodes: 139 | Win count: 0 | Win rate: 0.000 | time: 116.4 seconds\n",
      "Epoch: 044/14999 | Loss: 44.0000 | Episodes: 141 | Win count: 0 | Win rate: 0.000 | time: 119.1 seconds\n",
      "Epoch: 045/14999 | Loss: 45.0000 | Episodes: 144 | Win count: 0 | Win rate: 0.000 | time: 121.7 seconds\n",
      "Epoch: 046/14999 | Loss: 46.0000 | Episodes: 139 | Win count: 0 | Win rate: 0.000 | time: 124.3 seconds\n",
      "Epoch: 047/14999 | Loss: 47.0000 | Episodes: 139 | Win count: 0 | Win rate: 0.000 | time: 127.0 seconds\n",
      "Epoch: 048/14999 | Loss: 48.0000 | Episodes: 144 | Win count: 0 | Win rate: 0.000 | time: 129.4 seconds\n",
      "Epoch: 049/14999 | Loss: 49.0000 | Episodes: 143 | Win count: 0 | Win rate: 0.000 | time: 132.0 seconds\n",
      "Epoch: 050/14999 | Loss: 50.0000 | Episodes: 140 | Win count: 0 | Win rate: 0.000 | time: 134.4 seconds\n",
      "Epoch: 051/14999 | Loss: 51.0000 | Episodes: 136 | Win count: 0 | Win rate: 0.000 | time: 136.9 seconds\n",
      "Epoch: 052/14999 | Loss: 52.0000 | Episodes: 144 | Win count: 0 | Win rate: 0.000 | time: 139.7 seconds\n",
      "Epoch: 053/14999 | Loss: 53.0000 | Episodes: 140 | Win count: 0 | Win rate: 0.000 | time: 142.1 seconds\n",
      "Epoch: 054/14999 | Loss: 54.0000 | Episodes: 138 | Win count: 0 | Win rate: 0.000 | time: 144.7 seconds\n",
      "Epoch: 055/14999 | Loss: 55.0000 | Episodes: 135 | Win count: 0 | Win rate: 0.000 | time: 147.0 seconds\n",
      "Epoch: 056/14999 | Loss: 56.0000 | Episodes: 135 | Win count: 0 | Win rate: 0.000 | time: 149.5 seconds\n",
      "Epoch: 057/14999 | Loss: 57.0000 | Episodes: 145 | Win count: 0 | Win rate: 0.000 | time: 152.3 seconds\n",
      "Epoch: 058/14999 | Loss: 58.0000 | Episodes: 140 | Win count: 0 | Win rate: 0.000 | time: 154.8 seconds\n",
      "Epoch: 059/14999 | Loss: 59.0000 | Episodes: 142 | Win count: 0 | Win rate: 0.000 | time: 157.4 seconds\n",
      "Epoch: 060/14999 | Loss: 60.0000 | Episodes: 139 | Win count: 0 | Win rate: 0.000 | time: 159.9 seconds\n",
      "Epoch: 061/14999 | Loss: 61.0000 | Episodes: 138 | Win count: 0 | Win rate: 0.000 | time: 162.3 seconds\n",
      "Epoch: 062/14999 | Loss: 62.0000 | Episodes: 144 | Win count: 0 | Win rate: 0.000 | time: 165.1 seconds\n",
      "Epoch: 063/14999 | Loss: 63.0000 | Episodes: 144 | Win count: 0 | Win rate: 0.000 | time: 167.6 seconds\n",
      "Epoch: 064/14999 | Loss: 64.0000 | Episodes: 144 | Win count: 0 | Win rate: 0.000 | time: 170.1 seconds\n",
      "Epoch: 065/14999 | Loss: 65.0000 | Episodes: 142 | Win count: 0 | Win rate: 0.000 | time: 172.7 seconds\n",
      "Epoch: 066/14999 | Loss: 66.0000 | Episodes: 138 | Win count: 0 | Win rate: 0.000 | time: 175.2 seconds\n",
      "Epoch: 067/14999 | Loss: 67.0000 | Episodes: 136 | Win count: 0 | Win rate: 0.000 | time: 177.8 seconds\n",
      "Epoch: 068/14999 | Loss: 68.0000 | Episodes: 135 | Win count: 0 | Win rate: 0.000 | time: 180.3 seconds\n",
      "Epoch: 069/14999 | Loss: 69.0000 | Episodes: 144 | Win count: 0 | Win rate: 0.000 | time: 183.0 seconds\n",
      "Epoch: 070/14999 | Loss: 70.0000 | Episodes: 136 | Win count: 0 | Win rate: 0.000 | time: 185.7 seconds\n",
      "Epoch: 071/14999 | Loss: 71.0000 | Episodes: 141 | Win count: 0 | Win rate: 0.000 | time: 188.6 seconds\n",
      "Epoch: 072/14999 | Loss: 72.0000 | Episodes: 137 | Win count: 0 | Win rate: 0.000 | time: 191.1 seconds\n",
      "Epoch: 073/14999 | Loss: 73.0000 | Episodes: 139 | Win count: 0 | Win rate: 0.000 | time: 193.7 seconds\n",
      "Epoch: 074/14999 | Loss: 74.0000 | Episodes: 136 | Win count: 0 | Win rate: 0.000 | time: 196.1 seconds\n",
      "Epoch: 075/14999 | Loss: 75.0000 | Episodes: 136 | Win count: 0 | Win rate: 0.000 | time: 198.4 seconds\n",
      "Epoch: 076/14999 | Loss: 76.0000 | Episodes: 138 | Win count: 0 | Win rate: 0.000 | time: 200.9 seconds\n",
      "Epoch: 077/14999 | Loss: 77.0000 | Episodes: 142 | Win count: 0 | Win rate: 0.000 | time: 203.3 seconds\n",
      "Epoch: 078/14999 | Loss: 78.0000 | Episodes: 142 | Win count: 0 | Win rate: 0.000 | time: 205.8 seconds\n",
      "Epoch: 079/14999 | Loss: 79.0000 | Episodes: 144 | Win count: 0 | Win rate: 0.000 | time: 208.3 seconds\n",
      "Epoch: 080/14999 | Loss: 80.0000 | Episodes: 143 | Win count: 0 | Win rate: 0.000 | time: 210.8 seconds\n",
      "Epoch: 081/14999 | Loss: 81.0000 | Episodes: 142 | Win count: 0 | Win rate: 0.000 | time: 213.3 seconds\n",
      "Epoch: 082/14999 | Loss: 82.0000 | Episodes: 136 | Win count: 0 | Win rate: 0.000 | time: 215.8 seconds\n",
      "Epoch: 083/14999 | Loss: 83.0000 | Episodes: 142 | Win count: 0 | Win rate: 0.000 | time: 218.1 seconds\n",
      "Epoch: 084/14999 | Loss: 84.0000 | Episodes: 135 | Win count: 0 | Win rate: 0.000 | time: 220.4 seconds\n",
      "Epoch: 085/14999 | Loss: 85.0000 | Episodes: 137 | Win count: 0 | Win rate: 0.000 | time: 223.1 seconds\n",
      "Epoch: 086/14999 | Loss: 86.0000 | Episodes: 139 | Win count: 0 | Win rate: 0.000 | time: 225.8 seconds\n",
      "Epoch: 087/14999 | Loss: 87.0000 | Episodes: 135 | Win count: 0 | Win rate: 0.000 | time: 228.4 seconds\n",
      "Epoch: 088/14999 | Loss: 88.0000 | Episodes: 143 | Win count: 0 | Win rate: 0.000 | time: 231.1 seconds\n",
      "Epoch: 089/14999 | Loss: 89.0000 | Episodes: 144 | Win count: 0 | Win rate: 0.000 | time: 233.6 seconds\n",
      "Epoch: 090/14999 | Loss: 90.0000 | Episodes: 135 | Win count: 0 | Win rate: 0.000 | time: 236.0 seconds\n",
      "Epoch: 091/14999 | Loss: 91.0000 | Episodes: 141 | Win count: 0 | Win rate: 0.000 | time: 238.6 seconds\n",
      "Epoch: 092/14999 | Loss: 92.0000 | Episodes: 144 | Win count: 0 | Win rate: 0.000 | time: 241.3 seconds\n",
      "Epoch: 093/14999 | Loss: 93.0000 | Episodes: 139 | Win count: 0 | Win rate: 0.000 | time: 244.1 seconds\n",
      "Epoch: 094/14999 | Loss: 94.0000 | Episodes: 136 | Win count: 0 | Win rate: 0.000 | time: 246.7 seconds\n",
      "Epoch: 095/14999 | Loss: 95.0000 | Episodes: 135 | Win count: 0 | Win rate: 0.000 | time: 249.2 seconds\n",
      "Epoch: 096/14999 | Loss: 96.0000 | Episodes: 144 | Win count: 0 | Win rate: 0.000 | time: 251.9 seconds\n",
      "Epoch: 097/14999 | Loss: 97.0000 | Episodes: 140 | Win count: 0 | Win rate: 0.000 | time: 254.6 seconds\n",
      "Epoch: 098/14999 | Loss: 98.0000 | Episodes: 139 | Win count: 0 | Win rate: 0.000 | time: 257.1 seconds\n",
      "Epoch: 099/14999 | Loss: 99.0000 | Episodes: 136 | Win count: 0 | Win rate: 0.000 | time: 259.6 seconds\n",
      "Epoch: 100/14999 | Loss: 100.0000 | Episodes: 141 | Win count: 0 | Win rate: 0.000 | time: 262.2 seconds\n",
      "Epoch: 101/14999 | Loss: 101.0000 | Episodes: 140 | Win count: 0 | Win rate: 0.000 | time: 264.9 seconds\n",
      "Epoch: 102/14999 | Loss: 102.0000 | Episodes: 140 | Win count: 0 | Win rate: 0.000 | time: 267.5 seconds\n",
      "Epoch: 103/14999 | Loss: 103.0000 | Episodes: 140 | Win count: 0 | Win rate: 0.000 | time: 270.2 seconds\n",
      "Epoch: 104/14999 | Loss: 104.0000 | Episodes: 144 | Win count: 0 | Win rate: 0.000 | time: 272.9 seconds\n",
      "Epoch: 105/14999 | Loss: 105.0000 | Episodes: 140 | Win count: 0 | Win rate: 0.000 | time: 275.7 seconds\n",
      "Epoch: 106/14999 | Loss: 106.0000 | Episodes: 138 | Win count: 0 | Win rate: 0.000 | time: 278.6 seconds\n",
      "Epoch: 107/14999 | Loss: 107.0000 | Episodes: 144 | Win count: 0 | Win rate: 0.000 | time: 281.2 seconds\n",
      "Epoch: 108/14999 | Loss: 108.0000 | Episodes: 143 | Win count: 0 | Win rate: 0.000 | time: 283.8 seconds\n",
      "Epoch: 109/14999 | Loss: 109.0000 | Episodes: 137 | Win count: 0 | Win rate: 0.000 | time: 286.4 seconds\n",
      "Epoch: 110/14999 | Loss: 110.0000 | Episodes: 140 | Win count: 0 | Win rate: 0.000 | time: 289.0 seconds\n",
      "Epoch: 111/14999 | Loss: 111.0000 | Episodes: 139 | Win count: 0 | Win rate: 0.000 | time: 291.6 seconds\n",
      "Epoch: 112/14999 | Loss: 112.0000 | Episodes: 142 | Win count: 0 | Win rate: 0.000 | time: 294.2 seconds\n",
      "Epoch: 113/14999 | Loss: 113.0000 | Episodes: 135 | Win count: 0 | Win rate: 0.000 | time: 297.0 seconds\n",
      "Epoch: 114/14999 | Loss: 114.0000 | Episodes: 143 | Win count: 0 | Win rate: 0.000 | time: 299.7 seconds\n",
      "Epoch: 115/14999 | Loss: 115.0000 | Episodes: 139 | Win count: 0 | Win rate: 0.000 | time: 302.5 seconds\n",
      "Epoch: 116/14999 | Loss: 116.0000 | Episodes: 141 | Win count: 0 | Win rate: 0.000 | time: 305.0 seconds\n",
      "Epoch: 117/14999 | Loss: 117.0000 | Episodes: 137 | Win count: 0 | Win rate: 0.000 | time: 307.7 seconds\n",
      "Epoch: 118/14999 | Loss: 118.0000 | Episodes: 137 | Win count: 0 | Win rate: 0.000 | time: 310.1 seconds\n",
      "Epoch: 119/14999 | Loss: 119.0000 | Episodes: 143 | Win count: 0 | Win rate: 0.000 | time: 313.3 seconds\n",
      "Epoch: 120/14999 | Loss: 120.0000 | Episodes: 141 | Win count: 0 | Win rate: 0.000 | time: 315.8 seconds\n",
      "Epoch: 121/14999 | Loss: 121.0000 | Episodes: 142 | Win count: 0 | Win rate: 0.000 | time: 318.2 seconds\n",
      "Epoch: 122/14999 | Loss: 122.0000 | Episodes: 136 | Win count: 0 | Win rate: 0.000 | time: 320.9 seconds\n",
      "Epoch: 123/14999 | Loss: 123.0000 | Episodes: 142 | Win count: 0 | Win rate: 0.000 | time: 323.5 seconds\n",
      "Epoch: 124/14999 | Loss: 124.0000 | Episodes: 140 | Win count: 0 | Win rate: 0.000 | time: 325.8 seconds\n",
      "Epoch: 125/14999 | Loss: 125.0000 | Episodes: 140 | Win count: 0 | Win rate: 0.000 | time: 328.4 seconds\n",
      "Epoch: 126/14999 | Loss: 126.0000 | Episodes: 143 | Win count: 0 | Win rate: 0.000 | time: 330.9 seconds\n",
      "Epoch: 127/14999 | Loss: 127.0000 | Episodes: 139 | Win count: 0 | Win rate: 0.000 | time: 333.5 seconds\n",
      "Epoch: 128/14999 | Loss: 128.0000 | Episodes: 134 | Win count: 0 | Win rate: 0.000 | time: 336.0 seconds\n",
      "Epoch: 129/14999 | Loss: 129.0000 | Episodes: 136 | Win count: 0 | Win rate: 0.000 | time: 338.5 seconds\n",
      "Epoch: 130/14999 | Loss: 130.0000 | Episodes: 139 | Win count: 0 | Win rate: 0.000 | time: 341.2 seconds\n",
      "Epoch: 131/14999 | Loss: 131.0000 | Episodes: 139 | Win count: 0 | Win rate: 0.000 | time: 343.7 seconds\n",
      "Epoch: 132/14999 | Loss: 132.0000 | Episodes: 139 | Win count: 0 | Win rate: 0.000 | time: 346.2 seconds\n",
      "Epoch: 133/14999 | Loss: 133.0000 | Episodes: 141 | Win count: 0 | Win rate: 0.000 | time: 348.7 seconds\n",
      "Epoch: 134/14999 | Loss: 134.0000 | Episodes: 144 | Win count: 0 | Win rate: 0.000 | time: 351.3 seconds\n",
      "Epoch: 135/14999 | Loss: 135.0000 | Episodes: 141 | Win count: 0 | Win rate: 0.000 | time: 353.8 seconds\n",
      "Epoch: 136/14999 | Loss: 136.0000 | Episodes: 141 | Win count: 0 | Win rate: 0.000 | time: 356.2 seconds\n",
      "Epoch: 137/14999 | Loss: 137.0000 | Episodes: 136 | Win count: 0 | Win rate: 0.000 | time: 358.7 seconds\n",
      "Epoch: 138/14999 | Loss: 138.0000 | Episodes: 142 | Win count: 0 | Win rate: 0.000 | time: 361.3 seconds\n",
      "Epoch: 139/14999 | Loss: 139.0000 | Episodes: 141 | Win count: 0 | Win rate: 0.000 | time: 364.1 seconds\n",
      "Epoch: 140/14999 | Loss: 140.0000 | Episodes: 138 | Win count: 0 | Win rate: 0.000 | time: 366.6 seconds\n",
      "Epoch: 141/14999 | Loss: 141.0000 | Episodes: 139 | Win count: 0 | Win rate: 0.000 | time: 369.3 seconds\n",
      "Epoch: 142/14999 | Loss: 142.0000 | Episodes: 140 | Win count: 0 | Win rate: 0.000 | time: 372.0 seconds\n",
      "Epoch: 143/14999 | Loss: 143.0000 | Episodes: 136 | Win count: 0 | Win rate: 0.000 | time: 374.7 seconds\n",
      "Epoch: 144/14999 | Loss: 144.0000 | Episodes: 137 | Win count: 0 | Win rate: 0.000 | time: 377.2 seconds\n",
      "Epoch: 145/14999 | Loss: 145.0000 | Episodes: 140 | Win count: 0 | Win rate: 0.000 | time: 379.7 seconds\n",
      "Epoch: 146/14999 | Loss: 146.0000 | Episodes: 139 | Win count: 0 | Win rate: 0.000 | time: 382.2 seconds\n",
      "Epoch: 147/14999 | Loss: 147.0000 | Episodes: 135 | Win count: 0 | Win rate: 0.000 | time: 384.8 seconds\n",
      "Epoch: 148/14999 | Loss: 148.0000 | Episodes: 142 | Win count: 0 | Win rate: 0.000 | time: 387.5 seconds\n",
      "Epoch: 149/14999 | Loss: 149.0000 | Episodes: 134 | Win count: 0 | Win rate: 0.000 | time: 389.8 seconds\n",
      "Epoch: 150/14999 | Loss: 150.0000 | Episodes: 139 | Win count: 0 | Win rate: 0.000 | time: 392.3 seconds\n",
      "Epoch: 151/14999 | Loss: 151.0000 | Episodes: 144 | Win count: 0 | Win rate: 0.000 | time: 394.7 seconds\n",
      "Epoch: 152/14999 | Loss: 152.0000 | Episodes: 142 | Win count: 0 | Win rate: 0.000 | time: 397.2 seconds\n",
      "Epoch: 153/14999 | Loss: 153.0000 | Episodes: 142 | Win count: 0 | Win rate: 0.000 | time: 399.7 seconds\n",
      "Epoch: 154/14999 | Loss: 154.0000 | Episodes: 136 | Win count: 0 | Win rate: 0.000 | time: 6.71 minutes\n",
      "Epoch: 155/14999 | Loss: 155.0000 | Episodes: 138 | Win count: 0 | Win rate: 0.000 | time: 6.75 minutes\n",
      "Epoch: 156/14999 | Loss: 156.0000 | Episodes: 139 | Win count: 0 | Win rate: 0.000 | time: 6.79 minutes\n",
      "Epoch: 157/14999 | Loss: 157.0000 | Episodes: 139 | Win count: 0 | Win rate: 0.000 | time: 6.84 minutes\n",
      "Epoch: 158/14999 | Loss: 158.0000 | Episodes: 139 | Win count: 0 | Win rate: 0.000 | time: 6.88 minutes\n",
      "Epoch: 159/14999 | Loss: 159.0000 | Episodes: 144 | Win count: 0 | Win rate: 0.000 | time: 6.92 minutes\n",
      "Epoch: 160/14999 | Loss: 160.0000 | Episodes: 137 | Win count: 0 | Win rate: 0.000 | time: 6.96 minutes\n",
      "Epoch: 161/14999 | Loss: 161.0000 | Episodes: 141 | Win count: 0 | Win rate: 0.000 | time: 7.00 minutes\n",
      "Epoch: 162/14999 | Loss: 162.0000 | Episodes: 144 | Win count: 0 | Win rate: 0.000 | time: 7.04 minutes\n",
      "Epoch: 163/14999 | Loss: 163.0000 | Episodes: 139 | Win count: 0 | Win rate: 0.000 | time: 7.09 minutes\n",
      "Epoch: 164/14999 | Loss: 164.0000 | Episodes: 140 | Win count: 0 | Win rate: 0.000 | time: 7.13 minutes\n",
      "Epoch: 165/14999 | Loss: 165.0000 | Episodes: 139 | Win count: 0 | Win rate: 0.000 | time: 7.18 minutes\n",
      "Epoch: 166/14999 | Loss: 166.0000 | Episodes: 140 | Win count: 0 | Win rate: 0.000 | time: 7.22 minutes\n",
      "Epoch: 167/14999 | Loss: 167.0000 | Episodes: 141 | Win count: 0 | Win rate: 0.000 | time: 7.26 minutes\n",
      "Epoch: 168/14999 | Loss: 168.0000 | Episodes: 137 | Win count: 0 | Win rate: 0.000 | time: 7.30 minutes\n",
      "Epoch: 169/14999 | Loss: 169.0000 | Episodes: 138 | Win count: 0 | Win rate: 0.000 | time: 7.34 minutes\n",
      "Epoch: 170/14999 | Loss: 170.0000 | Episodes: 137 | Win count: 0 | Win rate: 0.000 | time: 7.38 minutes\n",
      "Epoch: 171/14999 | Loss: 171.0000 | Episodes: 134 | Win count: 0 | Win rate: 0.000 | time: 7.42 minutes\n",
      "Epoch: 172/14999 | Loss: 172.0000 | Episodes: 144 | Win count: 0 | Win rate: 0.000 | time: 7.47 minutes\n",
      "Epoch: 173/14999 | Loss: 173.0000 | Episodes: 143 | Win count: 0 | Win rate: 0.000 | time: 7.51 minutes\n",
      "Epoch: 174/14999 | Loss: 174.0000 | Episodes: 139 | Win count: 0 | Win rate: 0.000 | time: 7.55 minutes\n",
      "Epoch: 175/14999 | Loss: 175.0000 | Episodes: 139 | Win count: 0 | Win rate: 0.000 | time: 7.59 minutes\n",
      "Epoch: 176/14999 | Loss: 176.0000 | Episodes: 142 | Win count: 0 | Win rate: 0.000 | time: 7.64 minutes\n",
      "Epoch: 177/14999 | Loss: 177.0000 | Episodes: 140 | Win count: 0 | Win rate: 0.000 | time: 7.67 minutes\n",
      "Epoch: 178/14999 | Loss: 178.0000 | Episodes: 140 | Win count: 0 | Win rate: 0.000 | time: 7.72 minutes\n",
      "Epoch: 179/14999 | Loss: 179.0000 | Episodes: 137 | Win count: 0 | Win rate: 0.000 | time: 7.76 minutes\n",
      "Epoch: 180/14999 | Loss: 180.0000 | Episodes: 135 | Win count: 0 | Win rate: 0.000 | time: 7.80 minutes\n",
      "Epoch: 181/14999 | Loss: 181.0000 | Episodes: 140 | Win count: 0 | Win rate: 0.000 | time: 7.85 minutes\n",
      "Epoch: 182/14999 | Loss: 182.0000 | Episodes: 139 | Win count: 0 | Win rate: 0.000 | time: 7.89 minutes\n",
      "Epoch: 183/14999 | Loss: 183.0000 | Episodes: 144 | Win count: 0 | Win rate: 0.000 | time: 7.93 minutes\n",
      "Epoch: 184/14999 | Loss: 184.0000 | Episodes: 140 | Win count: 0 | Win rate: 0.000 | time: 7.97 minutes\n",
      "Epoch: 185/14999 | Loss: 185.0000 | Episodes: 135 | Win count: 0 | Win rate: 0.000 | time: 8.01 minutes\n",
      "Epoch: 186/14999 | Loss: 186.0000 | Episodes: 136 | Win count: 0 | Win rate: 0.000 | time: 8.05 minutes\n",
      "Epoch: 187/14999 | Loss: 187.0000 | Episodes: 137 | Win count: 0 | Win rate: 0.000 | time: 8.09 minutes\n",
      "Epoch: 188/14999 | Loss: 188.0000 | Episodes: 140 | Win count: 0 | Win rate: 0.000 | time: 8.13 minutes\n",
      "Epoch: 189/14999 | Loss: 189.0000 | Episodes: 144 | Win count: 0 | Win rate: 0.000 | time: 8.17 minutes\n",
      "Epoch: 190/14999 | Loss: 190.0000 | Episodes: 139 | Win count: 0 | Win rate: 0.000 | time: 8.21 minutes\n",
      "Epoch: 191/14999 | Loss: 191.0000 | Episodes: 141 | Win count: 0 | Win rate: 0.000 | time: 8.25 minutes\n",
      "Epoch: 192/14999 | Loss: 192.0000 | Episodes: 139 | Win count: 0 | Win rate: 0.000 | time: 8.30 minutes\n",
      "Epoch: 193/14999 | Loss: 193.0000 | Episodes: 142 | Win count: 0 | Win rate: 0.000 | time: 8.34 minutes\n",
      "Epoch: 194/14999 | Loss: 194.0000 | Episodes: 135 | Win count: 0 | Win rate: 0.000 | time: 8.38 minutes\n",
      "Epoch: 195/14999 | Loss: 195.0000 | Episodes: 140 | Win count: 0 | Win rate: 0.000 | time: 8.42 minutes\n",
      "Epoch: 196/14999 | Loss: 196.0000 | Episodes: 144 | Win count: 0 | Win rate: 0.000 | time: 8.47 minutes\n",
      "Epoch: 197/14999 | Loss: 197.0000 | Episodes: 143 | Win count: 0 | Win rate: 0.000 | time: 8.51 minutes\n",
      "Epoch: 198/14999 | Loss: 198.0000 | Episodes: 140 | Win count: 0 | Win rate: 0.000 | time: 8.56 minutes\n",
      "Epoch: 199/14999 | Loss: 199.0000 | Episodes: 146 | Win count: 0 | Win rate: 0.000 | time: 8.60 minutes\n",
      "Epoch: 200/14999 | Loss: 200.0000 | Episodes: 135 | Win count: 0 | Win rate: 0.000 | time: 8.64 minutes\n",
      "Epoch: 201/14999 | Loss: 201.0000 | Episodes: 139 | Win count: 0 | Win rate: 0.000 | time: 8.68 minutes\n",
      "Epoch: 202/14999 | Loss: 202.0000 | Episodes: 139 | Win count: 0 | Win rate: 0.000 | time: 8.74 minutes\n",
      "Epoch: 203/14999 | Loss: 203.0000 | Episodes: 146 | Win count: 0 | Win rate: 0.000 | time: 8.78 minutes\n",
      "Epoch: 204/14999 | Loss: 204.0000 | Episodes: 137 | Win count: 0 | Win rate: 0.000 | time: 8.82 minutes\n",
      "Epoch: 205/14999 | Loss: 205.0000 | Episodes: 143 | Win count: 0 | Win rate: 0.000 | time: 8.87 minutes\n",
      "Epoch: 206/14999 | Loss: 206.0000 | Episodes: 140 | Win count: 0 | Win rate: 0.000 | time: 8.91 minutes\n",
      "Epoch: 207/14999 | Loss: 207.0000 | Episodes: 135 | Win count: 0 | Win rate: 0.000 | time: 8.95 minutes\n",
      "Epoch: 208/14999 | Loss: 208.0000 | Episodes: 140 | Win count: 0 | Win rate: 0.000 | time: 8.99 minutes\n",
      "Epoch: 209/14999 | Loss: 209.0000 | Episodes: 141 | Win count: 0 | Win rate: 0.000 | time: 9.03 minutes\n",
      "Epoch: 210/14999 | Loss: 210.0000 | Episodes: 139 | Win count: 0 | Win rate: 0.000 | time: 9.08 minutes\n",
      "Epoch: 211/14999 | Loss: 211.0000 | Episodes: 138 | Win count: 0 | Win rate: 0.000 | time: 9.13 minutes\n",
      "Epoch: 212/14999 | Loss: 212.0000 | Episodes: 136 | Win count: 0 | Win rate: 0.000 | time: 9.17 minutes\n",
      "Epoch: 213/14999 | Loss: 213.0000 | Episodes: 136 | Win count: 0 | Win rate: 0.000 | time: 9.22 minutes\n",
      "Epoch: 214/14999 | Loss: 214.0000 | Episodes: 142 | Win count: 0 | Win rate: 0.000 | time: 9.26 minutes\n",
      "Epoch: 215/14999 | Loss: 215.0000 | Episodes: 137 | Win count: 0 | Win rate: 0.000 | time: 9.30 minutes\n",
      "Epoch: 216/14999 | Loss: 216.0000 | Episodes: 137 | Win count: 0 | Win rate: 0.000 | time: 9.35 minutes\n",
      "Epoch: 217/14999 | Loss: 217.0000 | Episodes: 142 | Win count: 0 | Win rate: 0.000 | time: 9.39 minutes\n",
      "Epoch: 218/14999 | Loss: 218.0000 | Episodes: 139 | Win count: 0 | Win rate: 0.000 | time: 9.43 minutes\n",
      "Epoch: 219/14999 | Loss: 219.0000 | Episodes: 137 | Win count: 0 | Win rate: 0.000 | time: 9.47 minutes\n",
      "Epoch: 220/14999 | Loss: 220.0000 | Episodes: 143 | Win count: 0 | Win rate: 0.000 | time: 9.52 minutes\n",
      "Epoch: 221/14999 | Loss: 221.0000 | Episodes: 137 | Win count: 0 | Win rate: 0.000 | time: 9.56 minutes\n",
      "Epoch: 222/14999 | Loss: 222.0000 | Episodes: 138 | Win count: 0 | Win rate: 0.000 | time: 9.60 minutes\n",
      "Epoch: 223/14999 | Loss: 223.0000 | Episodes: 135 | Win count: 0 | Win rate: 0.000 | time: 9.65 minutes\n",
      "Epoch: 224/14999 | Loss: 224.0000 | Episodes: 139 | Win count: 0 | Win rate: 0.000 | time: 9.68 minutes\n",
      "Epoch: 225/14999 | Loss: 225.0000 | Episodes: 138 | Win count: 0 | Win rate: 0.000 | time: 9.72 minutes\n",
      "Epoch: 226/14999 | Loss: 226.0000 | Episodes: 145 | Win count: 0 | Win rate: 0.000 | time: 9.77 minutes\n",
      "Epoch: 227/14999 | Loss: 227.0000 | Episodes: 141 | Win count: 0 | Win rate: 0.000 | time: 9.81 minutes\n",
      "Epoch: 228/14999 | Loss: 228.0000 | Episodes: 140 | Win count: 0 | Win rate: 0.000 | time: 9.86 minutes\n",
      "Epoch: 229/14999 | Loss: 229.0000 | Episodes: 142 | Win count: 0 | Win rate: 0.000 | time: 9.90 minutes\n",
      "Epoch: 230/14999 | Loss: 230.0000 | Episodes: 139 | Win count: 0 | Win rate: 0.000 | time: 9.95 minutes\n",
      "Epoch: 231/14999 | Loss: 231.0000 | Episodes: 145 | Win count: 0 | Win rate: 0.000 | time: 9.99 minutes\n",
      "Epoch: 232/14999 | Loss: 232.0000 | Episodes: 145 | Win count: 0 | Win rate: 0.000 | time: 10.04 minutes\n",
      "Epoch: 233/14999 | Loss: 233.0000 | Episodes: 137 | Win count: 0 | Win rate: 0.000 | time: 10.09 minutes\n"
     ]
    },
    {
     "ename": "KeyboardInterrupt",
     "evalue": "",
     "output_type": "error",
     "traceback": [
      "\u001b[1;31m---------------------------------------------------------------------------\u001b[0m",
      "\u001b[1;31mKeyboardInterrupt\u001b[0m                         Traceback (most recent call last)",
      "\u001b[1;32m<ipython-input-11-3f866ecde593>\u001b[0m in \u001b[0;36m<module>\u001b[1;34m\u001b[0m\n\u001b[0;32m      1\u001b[0m \u001b[0mmodel\u001b[0m \u001b[1;33m=\u001b[0m \u001b[0mbuild_model\u001b[0m\u001b[1;33m(\u001b[0m\u001b[0mmaze\u001b[0m\u001b[1;33m)\u001b[0m\u001b[1;33m\u001b[0m\u001b[1;33m\u001b[0m\u001b[0m\n\u001b[1;32m----> 2\u001b[1;33m \u001b[0mqtrain\u001b[0m\u001b[1;33m(\u001b[0m\u001b[0mmodel\u001b[0m\u001b[1;33m,\u001b[0m \u001b[0mmaze\u001b[0m\u001b[1;33m,\u001b[0m \u001b[0mepochs\u001b[0m\u001b[1;33m=\u001b[0m\u001b[1;36m1000\u001b[0m\u001b[1;33m,\u001b[0m \u001b[0mmax_memory\u001b[0m\u001b[1;33m=\u001b[0m\u001b[1;36m8\u001b[0m\u001b[1;33m*\u001b[0m\u001b[0mmaze\u001b[0m\u001b[1;33m.\u001b[0m\u001b[0msize\u001b[0m\u001b[1;33m,\u001b[0m \u001b[0mdata_size\u001b[0m\u001b[1;33m=\u001b[0m\u001b[1;36m32\u001b[0m\u001b[1;33m)\u001b[0m\u001b[1;33m\u001b[0m\u001b[1;33m\u001b[0m\u001b[0m\n\u001b[0m",
      "\u001b[1;32m<ipython-input-9-5cb39a1877fb>\u001b[0m in \u001b[0;36mqtrain\u001b[1;34m(model, maze, **opt)\u001b[0m\n\u001b[0;32m    146\u001b[0m \u001b[1;33m\u001b[0m\u001b[0m\n\u001b[0;32m    147\u001b[0m             \u001b[1;31m#apply new data to the AI agent for training\u001b[0m\u001b[1;33m\u001b[0m\u001b[1;33m\u001b[0m\u001b[1;33m\u001b[0m\u001b[0m\n\u001b[1;32m--> 148\u001b[1;33m             \u001b[0minputs\u001b[0m\u001b[1;33m,\u001b[0m \u001b[0mtargets\u001b[0m \u001b[1;33m=\u001b[0m \u001b[0mexperience\u001b[0m\u001b[1;33m.\u001b[0m\u001b[0mget_data\u001b[0m\u001b[1;33m(\u001b[0m\u001b[1;33m)\u001b[0m\u001b[1;33m\u001b[0m\u001b[1;33m\u001b[0m\u001b[0m\n\u001b[0m\u001b[0;32m    149\u001b[0m             \u001b[0mmodel\u001b[0m\u001b[1;33m.\u001b[0m\u001b[0mfit\u001b[0m\u001b[1;33m(\u001b[0m\u001b[0minputs\u001b[0m\u001b[1;33m,\u001b[0m \u001b[0mtargets\u001b[0m\u001b[1;33m,\u001b[0m \u001b[0mverbose\u001b[0m\u001b[1;33m=\u001b[0m\u001b[1;36m0\u001b[0m\u001b[1;33m)\u001b[0m\u001b[1;33m\u001b[0m\u001b[1;33m\u001b[0m\u001b[0m\n\u001b[0;32m    150\u001b[0m             model.evaluate(inputs, targets, batch_size=None, verbose=0,sample_weight=None,\n",
      "\u001b[1;32mU:\\TreasureHuntGame\\GameExperience.py\u001b[0m in \u001b[0;36mget_data\u001b[1;34m(self, data_size)\u001b[0m\n\u001b[0;32m     42\u001b[0m             \u001b[0minputs\u001b[0m\u001b[1;33m[\u001b[0m\u001b[0mi\u001b[0m\u001b[1;33m]\u001b[0m \u001b[1;33m=\u001b[0m \u001b[0menvstate\u001b[0m\u001b[1;33m\u001b[0m\u001b[1;33m\u001b[0m\u001b[0m\n\u001b[0;32m     43\u001b[0m             \u001b[1;31m# There should be no target values for actions not taken.\u001b[0m\u001b[1;33m\u001b[0m\u001b[1;33m\u001b[0m\u001b[1;33m\u001b[0m\u001b[0m\n\u001b[1;32m---> 44\u001b[1;33m             \u001b[0mtargets\u001b[0m\u001b[1;33m[\u001b[0m\u001b[0mi\u001b[0m\u001b[1;33m]\u001b[0m \u001b[1;33m=\u001b[0m \u001b[0mself\u001b[0m\u001b[1;33m.\u001b[0m\u001b[0mpredict\u001b[0m\u001b[1;33m(\u001b[0m\u001b[0menvstate\u001b[0m\u001b[1;33m)\u001b[0m\u001b[1;33m\u001b[0m\u001b[1;33m\u001b[0m\u001b[0m\n\u001b[0m\u001b[0;32m     45\u001b[0m             \u001b[1;31m# Q_sa = derived policy = max quality env/action = max_a' Q(s', a')\u001b[0m\u001b[1;33m\u001b[0m\u001b[1;33m\u001b[0m\u001b[1;33m\u001b[0m\u001b[0m\n\u001b[0;32m     46\u001b[0m             \u001b[0mQ_sa\u001b[0m \u001b[1;33m=\u001b[0m \u001b[0mnp\u001b[0m\u001b[1;33m.\u001b[0m\u001b[0mmax\u001b[0m\u001b[1;33m(\u001b[0m\u001b[0mself\u001b[0m\u001b[1;33m.\u001b[0m\u001b[0mpredict\u001b[0m\u001b[1;33m(\u001b[0m\u001b[0menvstate_next\u001b[0m\u001b[1;33m)\u001b[0m\u001b[1;33m)\u001b[0m\u001b[1;33m\u001b[0m\u001b[1;33m\u001b[0m\u001b[0m\n",
      "\u001b[1;32mU:\\TreasureHuntGame\\GameExperience.py\u001b[0m in \u001b[0;36mpredict\u001b[1;34m(self, envstate)\u001b[0m\n\u001b[0;32m     29\u001b[0m     \u001b[1;31m# Predicts the next action based on the current environment state\u001b[0m\u001b[1;33m\u001b[0m\u001b[1;33m\u001b[0m\u001b[1;33m\u001b[0m\u001b[0m\n\u001b[0;32m     30\u001b[0m     \u001b[1;32mdef\u001b[0m \u001b[0mpredict\u001b[0m\u001b[1;33m(\u001b[0m\u001b[0mself\u001b[0m\u001b[1;33m,\u001b[0m \u001b[0menvstate\u001b[0m\u001b[1;33m)\u001b[0m\u001b[1;33m:\u001b[0m\u001b[1;33m\u001b[0m\u001b[1;33m\u001b[0m\u001b[0m\n\u001b[1;32m---> 31\u001b[1;33m         \u001b[1;32mreturn\u001b[0m \u001b[0mself\u001b[0m\u001b[1;33m.\u001b[0m\u001b[0mmodel\u001b[0m\u001b[1;33m.\u001b[0m\u001b[0mpredict\u001b[0m\u001b[1;33m(\u001b[0m\u001b[0menvstate\u001b[0m\u001b[1;33m)\u001b[0m\u001b[1;33m[\u001b[0m\u001b[1;36m0\u001b[0m\u001b[1;33m]\u001b[0m\u001b[1;33m\u001b[0m\u001b[1;33m\u001b[0m\u001b[0m\n\u001b[0m\u001b[0;32m     32\u001b[0m \u001b[1;33m\u001b[0m\u001b[0m\n\u001b[0;32m     33\u001b[0m     \u001b[1;31m# Returns input and targets from memory, defaults to data size of 10\u001b[0m\u001b[1;33m\u001b[0m\u001b[1;33m\u001b[0m\u001b[1;33m\u001b[0m\u001b[0m\n",
      "\u001b[1;32mC:\\ProgramData\\Anaconda3\\lib\\site-packages\\keras\\engine\\training.py\u001b[0m in \u001b[0;36mpredict\u001b[1;34m(self, x, batch_size, verbose, steps, callbacks, max_queue_size, workers, use_multiprocessing)\u001b[0m\n\u001b[0;32m   1460\u001b[0m                                             \u001b[0mverbose\u001b[0m\u001b[1;33m=\u001b[0m\u001b[0mverbose\u001b[0m\u001b[1;33m,\u001b[0m\u001b[1;33m\u001b[0m\u001b[1;33m\u001b[0m\u001b[0m\n\u001b[0;32m   1461\u001b[0m                                             \u001b[0msteps\u001b[0m\u001b[1;33m=\u001b[0m\u001b[0msteps\u001b[0m\u001b[1;33m,\u001b[0m\u001b[1;33m\u001b[0m\u001b[1;33m\u001b[0m\u001b[0m\n\u001b[1;32m-> 1462\u001b[1;33m                                             callbacks=callbacks)\n\u001b[0m\u001b[0;32m   1463\u001b[0m \u001b[1;33m\u001b[0m\u001b[0m\n\u001b[0;32m   1464\u001b[0m     def train_on_batch(self, x, y,\n",
      "\u001b[1;32mC:\\ProgramData\\Anaconda3\\lib\\site-packages\\keras\\engine\\training_arrays.py\u001b[0m in \u001b[0;36mpredict_loop\u001b[1;34m(model, f, ins, batch_size, verbose, steps, callbacks)\u001b[0m\n\u001b[0;32m    322\u001b[0m             \u001b[0mbatch_logs\u001b[0m \u001b[1;33m=\u001b[0m \u001b[1;33m{\u001b[0m\u001b[1;34m'batch'\u001b[0m\u001b[1;33m:\u001b[0m \u001b[0mbatch_index\u001b[0m\u001b[1;33m,\u001b[0m \u001b[1;34m'size'\u001b[0m\u001b[1;33m:\u001b[0m \u001b[0mlen\u001b[0m\u001b[1;33m(\u001b[0m\u001b[0mbatch_ids\u001b[0m\u001b[1;33m)\u001b[0m\u001b[1;33m}\u001b[0m\u001b[1;33m\u001b[0m\u001b[1;33m\u001b[0m\u001b[0m\n\u001b[0;32m    323\u001b[0m             \u001b[0mcallbacks\u001b[0m\u001b[1;33m.\u001b[0m\u001b[0m_call_batch_hook\u001b[0m\u001b[1;33m(\u001b[0m\u001b[1;34m'predict'\u001b[0m\u001b[1;33m,\u001b[0m \u001b[1;34m'begin'\u001b[0m\u001b[1;33m,\u001b[0m \u001b[0mbatch_index\u001b[0m\u001b[1;33m,\u001b[0m \u001b[0mbatch_logs\u001b[0m\u001b[1;33m)\u001b[0m\u001b[1;33m\u001b[0m\u001b[1;33m\u001b[0m\u001b[0m\n\u001b[1;32m--> 324\u001b[1;33m             \u001b[0mbatch_outs\u001b[0m \u001b[1;33m=\u001b[0m \u001b[0mf\u001b[0m\u001b[1;33m(\u001b[0m\u001b[0mins_batch\u001b[0m\u001b[1;33m)\u001b[0m\u001b[1;33m\u001b[0m\u001b[1;33m\u001b[0m\u001b[0m\n\u001b[0m\u001b[0;32m    325\u001b[0m             \u001b[0mbatch_outs\u001b[0m \u001b[1;33m=\u001b[0m \u001b[0mto_list\u001b[0m\u001b[1;33m(\u001b[0m\u001b[0mbatch_outs\u001b[0m\u001b[1;33m)\u001b[0m\u001b[1;33m\u001b[0m\u001b[1;33m\u001b[0m\u001b[0m\n\u001b[0;32m    326\u001b[0m             \u001b[1;32mif\u001b[0m \u001b[0mbatch_index\u001b[0m \u001b[1;33m==\u001b[0m \u001b[1;36m0\u001b[0m\u001b[1;33m:\u001b[0m\u001b[1;33m\u001b[0m\u001b[1;33m\u001b[0m\u001b[0m\n",
      "\u001b[1;32mC:\\ProgramData\\Anaconda3\\lib\\site-packages\\tensorflow_core\\python\\keras\\backend.py\u001b[0m in \u001b[0;36m__call__\u001b[1;34m(self, inputs)\u001b[0m\n\u001b[0;32m   3725\u001b[0m         \u001b[0mvalue\u001b[0m \u001b[1;33m=\u001b[0m \u001b[0mmath_ops\u001b[0m\u001b[1;33m.\u001b[0m\u001b[0mcast\u001b[0m\u001b[1;33m(\u001b[0m\u001b[0mvalue\u001b[0m\u001b[1;33m,\u001b[0m \u001b[0mtensor\u001b[0m\u001b[1;33m.\u001b[0m\u001b[0mdtype\u001b[0m\u001b[1;33m)\u001b[0m\u001b[1;33m\u001b[0m\u001b[1;33m\u001b[0m\u001b[0m\n\u001b[0;32m   3726\u001b[0m       \u001b[0mconverted_inputs\u001b[0m\u001b[1;33m.\u001b[0m\u001b[0mappend\u001b[0m\u001b[1;33m(\u001b[0m\u001b[0mvalue\u001b[0m\u001b[1;33m)\u001b[0m\u001b[1;33m\u001b[0m\u001b[1;33m\u001b[0m\u001b[0m\n\u001b[1;32m-> 3727\u001b[1;33m     \u001b[0moutputs\u001b[0m \u001b[1;33m=\u001b[0m \u001b[0mself\u001b[0m\u001b[1;33m.\u001b[0m\u001b[0m_graph_fn\u001b[0m\u001b[1;33m(\u001b[0m\u001b[1;33m*\u001b[0m\u001b[0mconverted_inputs\u001b[0m\u001b[1;33m)\u001b[0m\u001b[1;33m\u001b[0m\u001b[1;33m\u001b[0m\u001b[0m\n\u001b[0m\u001b[0;32m   3728\u001b[0m \u001b[1;33m\u001b[0m\u001b[0m\n\u001b[0;32m   3729\u001b[0m     \u001b[1;31m# EagerTensor.numpy() will often make a copy to ensure memory safety.\u001b[0m\u001b[1;33m\u001b[0m\u001b[1;33m\u001b[0m\u001b[1;33m\u001b[0m\u001b[0m\n",
      "\u001b[1;32mC:\\ProgramData\\Anaconda3\\lib\\site-packages\\tensorflow_core\\python\\eager\\function.py\u001b[0m in \u001b[0;36m__call__\u001b[1;34m(self, *args, **kwargs)\u001b[0m\n\u001b[0;32m   1549\u001b[0m       \u001b[0mTypeError\u001b[0m\u001b[1;33m:\u001b[0m \u001b[0mFor\u001b[0m \u001b[0minvalid\u001b[0m \u001b[0mpositional\u001b[0m\u001b[1;33m/\u001b[0m\u001b[0mkeyword\u001b[0m \u001b[0margument\u001b[0m \u001b[0mcombinations\u001b[0m\u001b[1;33m.\u001b[0m\u001b[1;33m\u001b[0m\u001b[1;33m\u001b[0m\u001b[0m\n\u001b[0;32m   1550\u001b[0m     \"\"\"\n\u001b[1;32m-> 1551\u001b[1;33m     \u001b[1;32mreturn\u001b[0m \u001b[0mself\u001b[0m\u001b[1;33m.\u001b[0m\u001b[0m_call_impl\u001b[0m\u001b[1;33m(\u001b[0m\u001b[0margs\u001b[0m\u001b[1;33m,\u001b[0m \u001b[0mkwargs\u001b[0m\u001b[1;33m)\u001b[0m\u001b[1;33m\u001b[0m\u001b[1;33m\u001b[0m\u001b[0m\n\u001b[0m\u001b[0;32m   1552\u001b[0m \u001b[1;33m\u001b[0m\u001b[0m\n\u001b[0;32m   1553\u001b[0m   \u001b[1;32mdef\u001b[0m \u001b[0m_call_impl\u001b[0m\u001b[1;33m(\u001b[0m\u001b[0mself\u001b[0m\u001b[1;33m,\u001b[0m \u001b[0margs\u001b[0m\u001b[1;33m,\u001b[0m \u001b[0mkwargs\u001b[0m\u001b[1;33m,\u001b[0m \u001b[0mcancellation_manager\u001b[0m\u001b[1;33m=\u001b[0m\u001b[1;32mNone\u001b[0m\u001b[1;33m)\u001b[0m\u001b[1;33m:\u001b[0m\u001b[1;33m\u001b[0m\u001b[1;33m\u001b[0m\u001b[0m\n",
      "\u001b[1;32mC:\\ProgramData\\Anaconda3\\lib\\site-packages\\tensorflow_core\\python\\eager\\function.py\u001b[0m in \u001b[0;36m_call_impl\u001b[1;34m(self, args, kwargs, cancellation_manager)\u001b[0m\n\u001b[0;32m   1589\u001b[0m       raise TypeError(\"Keyword arguments {} unknown. Expected {}.\".format(\n\u001b[0;32m   1590\u001b[0m           list(kwargs.keys()), list(self._arg_keywords)))\n\u001b[1;32m-> 1591\u001b[1;33m     \u001b[1;32mreturn\u001b[0m \u001b[0mself\u001b[0m\u001b[1;33m.\u001b[0m\u001b[0m_call_flat\u001b[0m\u001b[1;33m(\u001b[0m\u001b[0margs\u001b[0m\u001b[1;33m,\u001b[0m \u001b[0mself\u001b[0m\u001b[1;33m.\u001b[0m\u001b[0mcaptured_inputs\u001b[0m\u001b[1;33m,\u001b[0m \u001b[0mcancellation_manager\u001b[0m\u001b[1;33m)\u001b[0m\u001b[1;33m\u001b[0m\u001b[1;33m\u001b[0m\u001b[0m\n\u001b[0m\u001b[0;32m   1592\u001b[0m \u001b[1;33m\u001b[0m\u001b[0m\n\u001b[0;32m   1593\u001b[0m   \u001b[1;32mdef\u001b[0m \u001b[0m_filtered_call\u001b[0m\u001b[1;33m(\u001b[0m\u001b[0mself\u001b[0m\u001b[1;33m,\u001b[0m \u001b[0margs\u001b[0m\u001b[1;33m,\u001b[0m \u001b[0mkwargs\u001b[0m\u001b[1;33m)\u001b[0m\u001b[1;33m:\u001b[0m\u001b[1;33m\u001b[0m\u001b[1;33m\u001b[0m\u001b[0m\n",
      "\u001b[1;32mC:\\ProgramData\\Anaconda3\\lib\\site-packages\\tensorflow_core\\python\\eager\\function.py\u001b[0m in \u001b[0;36m_call_flat\u001b[1;34m(self, args, captured_inputs, cancellation_manager)\u001b[0m\n\u001b[0;32m   1690\u001b[0m       \u001b[1;31m# No tape is watching; skip to running the function.\u001b[0m\u001b[1;33m\u001b[0m\u001b[1;33m\u001b[0m\u001b[1;33m\u001b[0m\u001b[0m\n\u001b[0;32m   1691\u001b[0m       return self._build_call_outputs(self._inference_function.call(\n\u001b[1;32m-> 1692\u001b[1;33m           ctx, args, cancellation_manager=cancellation_manager))\n\u001b[0m\u001b[0;32m   1693\u001b[0m     forward_backward = self._select_forward_and_backward_functions(\n\u001b[0;32m   1694\u001b[0m         \u001b[0margs\u001b[0m\u001b[1;33m,\u001b[0m\u001b[1;33m\u001b[0m\u001b[1;33m\u001b[0m\u001b[0m\n",
      "\u001b[1;32mC:\\ProgramData\\Anaconda3\\lib\\site-packages\\tensorflow_core\\python\\eager\\function.py\u001b[0m in \u001b[0;36mcall\u001b[1;34m(self, ctx, args, cancellation_manager)\u001b[0m\n\u001b[0;32m    543\u001b[0m               \u001b[0minputs\u001b[0m\u001b[1;33m=\u001b[0m\u001b[0margs\u001b[0m\u001b[1;33m,\u001b[0m\u001b[1;33m\u001b[0m\u001b[1;33m\u001b[0m\u001b[0m\n\u001b[0;32m    544\u001b[0m               \u001b[0mattrs\u001b[0m\u001b[1;33m=\u001b[0m\u001b[1;33m(\u001b[0m\u001b[1;34m\"executor_type\"\u001b[0m\u001b[1;33m,\u001b[0m \u001b[0mexecutor_type\u001b[0m\u001b[1;33m,\u001b[0m \u001b[1;34m\"config_proto\"\u001b[0m\u001b[1;33m,\u001b[0m \u001b[0mconfig\u001b[0m\u001b[1;33m)\u001b[0m\u001b[1;33m,\u001b[0m\u001b[1;33m\u001b[0m\u001b[1;33m\u001b[0m\u001b[0m\n\u001b[1;32m--> 545\u001b[1;33m               ctx=ctx)\n\u001b[0m\u001b[0;32m    546\u001b[0m         \u001b[1;32melse\u001b[0m\u001b[1;33m:\u001b[0m\u001b[1;33m\u001b[0m\u001b[1;33m\u001b[0m\u001b[0m\n\u001b[0;32m    547\u001b[0m           outputs = execute.execute_with_cancellation(\n",
      "\u001b[1;32mC:\\ProgramData\\Anaconda3\\lib\\site-packages\\tensorflow_core\\python\\eager\\execute.py\u001b[0m in \u001b[0;36mquick_execute\u001b[1;34m(op_name, num_outputs, inputs, attrs, ctx, name)\u001b[0m\n\u001b[0;32m     59\u001b[0m     tensors = pywrap_tensorflow.TFE_Py_Execute(ctx._handle, device_name,\n\u001b[0;32m     60\u001b[0m                                                \u001b[0mop_name\u001b[0m\u001b[1;33m,\u001b[0m \u001b[0minputs\u001b[0m\u001b[1;33m,\u001b[0m \u001b[0mattrs\u001b[0m\u001b[1;33m,\u001b[0m\u001b[1;33m\u001b[0m\u001b[1;33m\u001b[0m\u001b[0m\n\u001b[1;32m---> 61\u001b[1;33m                                                num_outputs)\n\u001b[0m\u001b[0;32m     62\u001b[0m   \u001b[1;32mexcept\u001b[0m \u001b[0mcore\u001b[0m\u001b[1;33m.\u001b[0m\u001b[0m_NotOkStatusException\u001b[0m \u001b[1;32mas\u001b[0m \u001b[0me\u001b[0m\u001b[1;33m:\u001b[0m\u001b[1;33m\u001b[0m\u001b[1;33m\u001b[0m\u001b[0m\n\u001b[0;32m     63\u001b[0m     \u001b[1;32mif\u001b[0m \u001b[0mname\u001b[0m \u001b[1;32mis\u001b[0m \u001b[1;32mnot\u001b[0m \u001b[1;32mNone\u001b[0m\u001b[1;33m:\u001b[0m\u001b[1;33m\u001b[0m\u001b[1;33m\u001b[0m\u001b[0m\n",
      "\u001b[1;31mKeyboardInterrupt\u001b[0m: "
     ]
    }
   ],
   "source": [
    "model = build_model(maze)\n",
    "qtrain(model, maze, epochs=1000, max_memory=8*maze.size, data_size=32)"
   ]
  },
  {
   "cell_type": "markdown",
   "metadata": {},
   "source": [
    "This cell will check to see if the model passes the completion check. Note: This could take several minutes."
   ]
  },
  {
   "cell_type": "code",
   "execution_count": 12,
   "metadata": {},
   "outputs": [
    {
     "data": {
      "text/plain": [
       "<matplotlib.image.AxesImage at 0x1c7dff59dc8>"
      ]
     },
     "execution_count": 12,
     "metadata": {},
     "output_type": "execute_result"
    },
    {
     "data": {
      "image/png": "[encoded data removed]",
      "text/plain": [
       "<Figure size 432x288 with 1 Axes>"
      ]
     },
     "metadata": {
      "needs_background": "light"
     },
     "output_type": "display_data"
    }
   ],
   "source": [
    "completion_check(model, qmaze)\n",
    "show(qmaze)"
   ]
  },
  {
   "cell_type": "markdown",
   "metadata": {},
   "source": [
    "This cell will test your model for one game. It will start the pirate at the top-left corner and run play_game. The agent should find a path from the starting position to the target (treasure). The treasure is located in the bottom-right corner."
   ]
  },
  {
   "cell_type": "code",
   "execution_count": 13,
   "metadata": {},
   "outputs": [
    {
     "data": {
      "text/plain": [
       "<matplotlib.image.AxesImage at 0x1c7dffc2748>"
      ]
     },
     "execution_count": 13,
     "metadata": {},
     "output_type": "execute_result"
    },
    {
     "data": {
      "image/png": "[encoded data removed]",
      "text/plain": [
       "<Figure size 432x288 with 1 Axes>"
      ]
     },
     "metadata": {
      "needs_background": "light"
     },
     "output_type": "display_data"
    }
   ],
   "source": [
    "pirate_start = (0, 0)\n",
    "play_game(model, qmaze, pirate_start)\n",
    "show(qmaze)"
   ]
  },
  {
   "cell_type": "markdown",
   "metadata": {},
   "source": [
    "## Save and Submit Your Work\n",
    "After you have finished creating the code for your notebook, save your work. Make sure that your notebook contains your name in the filename (e.g. Doe_Jane_ProjectTwo.ipynb). This will help your instructor access and grade your work easily. Download a copy of your IPYNB file and submit it to Brightspace. Refer to the Jupyter Notebook in Apporto Tutorial if you need help with these tasks."
   ]
  }
 ],
 "metadata": {
  "kernelspec": {
   "display_name": "Python 3",
   "language": "python",
   "name": "python3"
  },
  "language_info": {
   "codemirror_mode": {
    "name": "ipython",
    "version": 3
   },
   "file_extension": ".py",
   "mimetype": "text/x-python",
   "name": "python",
   "nbconvert_exporter": "python",
   "pygments_lexer": "ipython3",
   "version": "3.7.4"
  }
 },
 "nbformat": 4,
 "nbformat_minor": 2
}
